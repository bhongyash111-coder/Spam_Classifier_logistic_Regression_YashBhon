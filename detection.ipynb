{
  "cells": [
    {
      "cell_type": "code",
      "execution_count": 1,
      "metadata": {
        "id": "8qM7ygnpU9mE"
      },
      "outputs": [],
      "source": [
        "import numpy as np\n",
        "import pandas as pd\n",
        "from sklearn.model_selection import train_test_split\n",
        "from sklearn.feature_extraction.text import TfidfVectorizer\n",
        "from sklearn.linear_model import LogisticRegression\n",
        "from sklearn.metrics import accuracy_score"
      ]
    },
    {
      "cell_type": "code",
      "execution_count": 2,
      "metadata": {
        "colab": {
          "base_uri": "https://localhost:8080/",
          "height": 287
        },
        "id": "g34z3pohfYxc",
        "outputId": "9dd18b5e-82d0-4f7f-ffc7-9babd61821c6"
      },
      "outputs": [],
      "source": [
        "df=pd.read_csv(r\"C:\\Users\\bhong\\OneDrive\\Desktop\\TECHNOLOGY\\Projects\\Spam Classifier\\mail_data.csv\")"
      ]
    },
    {
      "cell_type": "code",
      "execution_count": 3,
      "metadata": {
        "id": "KBmwUEKCh8wn"
      },
      "outputs": [
        {
          "name": "stdout",
          "output_type": "stream",
          "text": [
            "<class 'pandas.core.frame.DataFrame'>\n",
            "RangeIndex: 5572 entries, 0 to 5571\n",
            "Data columns (total 2 columns):\n",
            " #   Column    Non-Null Count  Dtype \n",
            "---  ------    --------------  ----- \n",
            " 0   Category  5572 non-null   object\n",
            " 1   Message   5572 non-null   object\n",
            "dtypes: object(2)\n",
            "memory usage: 87.2+ KB\n"
          ]
        },
        {
          "data": {
            "text/plain": [
              "(5572, 2)"
            ]
          },
          "execution_count": 3,
          "metadata": {},
          "output_type": "execute_result"
        }
      ],
      "source": [
        "data=df.where((pd.notnull(df)),' ')\n",
        "data.info()\n",
        "data.shape\n",
        "\n"
      ]
    },
    {
      "cell_type": "code",
      "execution_count": 4,
      "metadata": {
        "id": "sofLxC5IsIoy"
      },
      "outputs": [],
      "source": [
        "df['label'] = df['Category'].map({'spam': 0, 'ham': 1})"
      ]
    },
    {
      "cell_type": "code",
      "execution_count": 5,
      "metadata": {
        "id": "rBERPT2DswDO"
      },
      "outputs": [
        {
          "data": {
            "text/html": [
              "<div>\n",
              "<style scoped>\n",
              "    .dataframe tbody tr th:only-of-type {\n",
              "        vertical-align: middle;\n",
              "    }\n",
              "\n",
              "    .dataframe tbody tr th {\n",
              "        vertical-align: top;\n",
              "    }\n",
              "\n",
              "    .dataframe thead th {\n",
              "        text-align: right;\n",
              "    }\n",
              "</style>\n",
              "<table border=\"1\" class=\"dataframe\">\n",
              "  <thead>\n",
              "    <tr style=\"text-align: right;\">\n",
              "      <th></th>\n",
              "      <th>Category</th>\n",
              "      <th>Message</th>\n",
              "      <th>label</th>\n",
              "    </tr>\n",
              "  </thead>\n",
              "  <tbody>\n",
              "    <tr>\n",
              "      <th>0</th>\n",
              "      <td>ham</td>\n",
              "      <td>Go until jurong point, crazy.. Available only ...</td>\n",
              "      <td>1</td>\n",
              "    </tr>\n",
              "    <tr>\n",
              "      <th>1</th>\n",
              "      <td>ham</td>\n",
              "      <td>Ok lar... Joking wif u oni...</td>\n",
              "      <td>1</td>\n",
              "    </tr>\n",
              "    <tr>\n",
              "      <th>2</th>\n",
              "      <td>spam</td>\n",
              "      <td>Free entry in 2 a wkly comp to win FA Cup fina...</td>\n",
              "      <td>0</td>\n",
              "    </tr>\n",
              "    <tr>\n",
              "      <th>3</th>\n",
              "      <td>ham</td>\n",
              "      <td>U dun say so early hor... U c already then say...</td>\n",
              "      <td>1</td>\n",
              "    </tr>\n",
              "    <tr>\n",
              "      <th>4</th>\n",
              "      <td>ham</td>\n",
              "      <td>Nah I don't think he goes to usf, he lives aro...</td>\n",
              "      <td>1</td>\n",
              "    </tr>\n",
              "  </tbody>\n",
              "</table>\n",
              "</div>"
            ],
            "text/plain": [
              "  Category                                            Message  label\n",
              "0      ham  Go until jurong point, crazy.. Available only ...      1\n",
              "1      ham                      Ok lar... Joking wif u oni...      1\n",
              "2     spam  Free entry in 2 a wkly comp to win FA Cup fina...      0\n",
              "3      ham  U dun say so early hor... U c already then say...      1\n",
              "4      ham  Nah I don't think he goes to usf, he lives aro...      1"
            ]
          },
          "execution_count": 5,
          "metadata": {},
          "output_type": "execute_result"
        }
      ],
      "source": [
        "df.head()"
      ]
    },
    {
      "cell_type": "code",
      "execution_count": 6,
      "metadata": {
        "id": "cxtokayJsxpe"
      },
      "outputs": [
        {
          "name": "stdout",
          "output_type": "stream",
          "text": [
            "0       1\n",
            "1       1\n",
            "2       0\n",
            "3       1\n",
            "4       1\n",
            "       ..\n",
            "5567    0\n",
            "5568    1\n",
            "5569    1\n",
            "5570    1\n",
            "5571    1\n",
            "Name: label, Length: 5572, dtype: int64\n"
          ]
        }
      ],
      "source": [
        "X=df['Message']\n",
        "Y=df['label']\n",
        "print(Y)"
      ]
    },
    {
      "cell_type": "code",
      "execution_count": 7,
      "metadata": {
        "id": "xJnyr3ICs9KO"
      },
      "outputs": [],
      "source": [
        "X_train, X_test, Y_train,Y_test=train_test_split(X,Y, test_size=0.2, random_state=3)"
      ]
    },
    {
      "cell_type": "code",
      "execution_count": 8,
      "metadata": {
        "id": "-7U3WXcAuLfI"
      },
      "outputs": [],
      "source": [
        "feature_extraction=TfidfVectorizer(min_df=1, stop_words='english', lowercase=True)\n",
        "x_train_features=feature_extraction.fit_transform(X_train)\n",
        "x_test_features=feature_extraction.transform(X_test)\n",
        "y_train_features=Y_train.astype('int')\n",
        "y_test_features=Y_test.astype('int')\n",
        "\n"
      ]
    },
    {
      "cell_type": "code",
      "execution_count": 9,
      "metadata": {},
      "outputs": [
        {
          "name": "stdout",
          "output_type": "stream",
          "text": [
            "  (0, 1)\t0.2381316303003606\n",
            "  (0, 9)\t0.2852706805264544\n",
            "  (0, 14)\t0.26797874471323896\n",
            "  (0, 20)\t0.30668032384591537\n",
            "  (0, 306)\t0.23975986557206702\n",
            "  (0, 405)\t0.2381316303003606\n",
            "  (0, 1041)\t0.28016206931555726\n",
            "  (0, 1082)\t0.2451068436245027\n",
            "  (0, 1361)\t0.25132445289897426\n",
            "  (0, 1405)\t0.3176863938914351\n",
            "  (0, 1549)\t0.2646498848307188\n",
            "  (0, 4386)\t0.18353336340308998\n",
            "  (0, 5213)\t0.1988547357502182\n",
            "  (0, 5373)\t0.2365698724638063\n",
            "  (0, 6920)\t0.20571591693537986\n",
            "  (0, 7271)\t0.1940327008179069\n",
            "  (1, 3491)\t0.496093956101028\n",
            "  (1, 4418)\t0.3457696891316818\n",
            "  (1, 4729)\t0.22965776503163893\n",
            "  (1, 6214)\t0.3621564482127515\n",
            "  (1, 6507)\t0.26731535902873493\n",
            "  (1, 6588)\t0.3298937975962767\n",
            "  (1, 6732)\t0.42473488678029325\n",
            "  (1, 7368)\t0.29957800964520975\n",
            "  (2, 201)\t0.2824102268489399\n",
            "  :\t:\n",
            "  (1110, 6591)\t0.7327660015422193\n",
            "  (1111, 2440)\t0.4137350055985486\n",
            "  (1111, 3227)\t0.44384935772735523\n",
            "  (1111, 6033)\t0.4714849709283488\n",
            "  (1111, 6787)\t0.40050175714278885\n",
            "  (1111, 7353)\t0.4991205841293424\n",
            "  (1112, 1109)\t0.35334496762883244\n",
            "  (1112, 1683)\t0.4017087436272034\n",
            "  (1112, 2329)\t0.241856898377491\n",
            "  (1112, 4170)\t0.3307835623173863\n",
            "  (1112, 5056)\t0.2559183043595413\n",
            "  (1112, 5695)\t0.3381604952481646\n",
            "  (1112, 5778)\t0.22807428098549426\n",
            "  (1112, 6297)\t0.3056896872268727\n",
            "  (1112, 6777)\t0.32853717524096393\n",
            "  (1112, 7071)\t0.33558524648843113\n",
            "  (1113, 2224)\t0.33379592674353104\n",
            "  (1113, 2852)\t0.5956422931588335\n",
            "  (1113, 3113)\t0.3384083342515567\n",
            "  (1113, 3281)\t0.3323250860171953\n",
            "  (1113, 3811)\t0.2810308058655509\n",
            "  (1113, 4038)\t0.370235205294137\n",
            "  (1113, 4080)\t0.30459473619554067\n",
            "  (1114, 4033)\t0.8543942045002639\n",
            "  (1114, 4557)\t0.5196253874825217\n"
          ]
        }
      ],
      "source": [
        "print(x_test_features)"
      ]
    },
    {
      "cell_type": "code",
      "execution_count": 10,
      "metadata": {},
      "outputs": [
        {
          "name": "stdout",
          "output_type": "stream",
          "text": [
            "[0 1 1 ... 1 1 1]\n"
          ]
        }
      ],
      "source": [
        "model=LogisticRegression()\n",
        "model.fit(x_train_features,y_train_features)\n",
        "prediction_testfeatures=model.predict(x_test_features)\n",
        "\n",
        "print(prediction_testfeatures)\n",
        "prediction_trainfeatures=model.predict(x_train_features)\n",
        "\n",
        "\n"
      ]
    },
    {
      "cell_type": "code",
      "execution_count": 11,
      "metadata": {},
      "outputs": [
        {
          "name": "stdout",
          "output_type": "stream",
          "text": [
            "acuracy_test_feature: 96.68161434977578\n",
            "acuracy_train_feature: 96.76912721561588\n"
          ]
        }
      ],
      "source": [
        "print(\"acuracy_test_feature:\", accuracy_score(y_test_features, prediction_testfeatures)*100)\n",
        "print(\"acuracy_train_feature:\", accuracy_score(y_train_features, prediction_trainfeatures)*100)"
      ]
    },
    {
      "cell_type": "code",
      "execution_count": 12,
      "metadata": {},
      "outputs": [
        {
          "name": "stdout",
          "output_type": "stream",
          "text": [
            "Logistic Regression accuracy: 96.68%\n",
            "Ridge Classifier accuracy: 97.85%\n",
            "SGD Classifier accuracy: 98.30%\n",
            "Perceptron accuracy: 98.57%\n",
            "Passive Aggressive accuracy: 98.57%\n",
            "MultinomialNB accuracy: 97.31%\n",
            "BernoulliNB accuracy: 97.40%\n",
            "SVC accuracy: 97.94%\n",
            "LinearSVC accuracy: 98.21%\n",
            "Decision Tree accuracy: 96.14%\n",
            "Random Forest accuracy: 97.58%\n",
            "Gradient Boosting accuracy: 95.61%\n"
          ]
        },
        {
          "name": "stderr",
          "output_type": "stream",
          "text": [
            "c:\\Users\\bhong\\anaconda3\\Lib\\site-packages\\sklearn\\ensemble\\_weight_boosting.py:527: FutureWarning: The SAMME.R algorithm (the default) is deprecated and will be removed in 1.6. Use the SAMME algorithm to circumvent this warning.\n",
            "  warnings.warn(\n"
          ]
        },
        {
          "name": "stdout",
          "output_type": "stream",
          "text": [
            "AdaBoost accuracy: 96.59%\n",
            "Extra Trees accuracy: 97.76%\n",
            "Bagging accuracy: 96.77%\n",
            "KNeighbors accuracy: 90.94%\n",
            "Nearest Centroid accuracy: 97.31%\n",
            "\n",
            "Best model: Perceptron with accuracy 98.57%\n"
          ]
        }
      ],
      "source": [
        "from sklearn.linear_model import LogisticRegression, RidgeClassifier, SGDClassifier, Perceptron, PassiveAggressiveClassifier\n",
        "from sklearn.naive_bayes import MultinomialNB, BernoulliNB\n",
        "from sklearn.svm import SVC, LinearSVC\n",
        "from sklearn.tree import DecisionTreeClassifier\n",
        "from sklearn.ensemble import RandomForestClassifier, GradientBoostingClassifier, AdaBoostClassifier, ExtraTreesClassifier, BaggingClassifier\n",
        "from sklearn.neighbors import KNeighborsClassifier, NearestCentroid\n",
        "\n",
        "models = {\n",
        "    \"Logistic Regression\": LogisticRegression(),\n",
        "    \"Ridge Classifier\": RidgeClassifier(),\n",
        "    \"SGD Classifier\": SGDClassifier(),\n",
        "    \"Perceptron\": Perceptron(),\n",
        "    \"Passive Aggressive\": PassiveAggressiveClassifier(),\n",
        "    \"MultinomialNB\": MultinomialNB(),\n",
        "    \"BernoulliNB\": BernoulliNB(),\n",
        "    \"SVC\": SVC(),\n",
        "    \"LinearSVC\": LinearSVC(),\n",
        "    \"Decision Tree\": DecisionTreeClassifier(),\n",
        "    \"Random Forest\": RandomForestClassifier(),\n",
        "    \"Gradient Boosting\": GradientBoostingClassifier(),\n",
        "    \"AdaBoost\": AdaBoostClassifier(),\n",
        "    \"Extra Trees\": ExtraTreesClassifier(),\n",
        "    \"Bagging\": BaggingClassifier(),\n",
        "    \"KNeighbors\": KNeighborsClassifier(),\n",
        "    \"Nearest Centroid\": NearestCentroid()\n",
        "}\n",
        "\n",
        "accuracies = {}\n",
        "\n",
        "for name, model in models.items():\n",
        "   \n",
        "        model.fit(x_train_features, y_train_features)\n",
        "        predictions = model.predict(x_test_features)\n",
        "        acc = accuracy_score(y_test_features, predictions)\n",
        "        accuracies[name] = acc\n",
        "        print(f\"{name} accuracy: {acc*100:.2f}%\")\n",
        "    \n",
        "\n",
        "best_model = max(accuracies, key=accuracies.get)\n",
        "print(f\"\\nBest model: {best_model} with accuracy {accuracies[best_model]*100:.2f}%\")"
      ]
    },
    {
      "cell_type": "code",
      "execution_count": null,
      "metadata": {},
      "outputs": [],
      "source": [
        "input_mail = input(\"Enter the mail :\")\n",
        "input_mail_features = feature_extraction.transform([input_mail])\n",
        "prediction_final=model.predict(input_mail_features)\n",
        "\n",
        "if(prediction_final==0):\n",
        "    print(\"THIS IS SPAM MAIL LIKELY\")\n",
        "else : \n",
        "    print(\"This is ham mail\")\n"
      ]
    }
  ],
  "metadata": {
    "colab": {
      "provenance": []
    },
    "kernelspec": {
      "display_name": "base",
      "language": "python",
      "name": "python3"
    },
    "language_info": {
      "codemirror_mode": {
        "name": "ipython",
        "version": 3
      },
      "file_extension": ".py",
      "mimetype": "text/x-python",
      "name": "python",
      "nbconvert_exporter": "python",
      "pygments_lexer": "ipython3",
      "version": "3.12.7"
    }
  },
  "nbformat": 4,
  "nbformat_minor": 0
}
